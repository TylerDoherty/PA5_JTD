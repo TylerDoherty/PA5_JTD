{
 "cells": [
  {
   "cell_type": "markdown",
   "id": "f1562004",
   "metadata": {},
   "source": [
    "# PA5_JTD\n",
    "### Tyler Doherty\n",
    "### Version 1\n",
    "### Fall 2023"
   ]
  },
  {
   "cell_type": "markdown",
   "id": "8952da95",
   "metadata": {},
   "source": [
    "#### Task 1: Language Translator - write a program that implements a translation dictionary using a Python dictionary data structure that maps 10 English words to 10 words in another language (e.g. Spanish, German, Farsi, Arabic, Japanese, etc.). The keys in your dictionary should be in English (all lower case), and your values should be in your target language (also all lowercase). Your program should ask for words in English to translate to your target language until the user enters the number zero (0). Your program should provide input/output precisely as the output below:"
   ]
  },
  {
   "cell_type": "code",
   "execution_count": 1,
   "id": "da6c0777",
   "metadata": {},
   "outputs": [
    {
     "name": "stdout",
     "output_type": "stream",
     "text": [
      "Welcome to the english to spanish translator. \n",
      "Enter a word in english that you want translated (or 0 to exit): dog\n",
      "The translation of 'dog' is 'perro'.\n",
      "Enter a word in english that you want translated (or 0 to exit): 0\n",
      "Thank you for using the translator!\n"
     ]
    }
   ],
   "source": [
    "translation_dict = {\n",
    "    \"hello\": \"hola\",\n",
    "    \"goodbye\": \"adiós\",\n",
    "    \"cat\": \"gato\",\n",
    "    \"dog\": \"perro\",\n",
    "    \"book\": \"libro\",\n",
    "    \"computer\": \"computadora\",\n",
    "    \"thank you\": \"gracias\",\n",
    "    \"please\": \"por favor\",\n",
    "    \"yes\": \"sí\",\n",
    "    \"no\": \"no\"\n",
    "}\n",
    "\n",
    "print(\"Welcome to the english to spanish translator. \")\n",
    "\n",
    "while True:\n",
    "    word = input(\"Enter a word in english that you want translated (or 0 to exit): \").lower()\n",
    "    if word == \"0\":\n",
    "        break\n",
    "    if word in translation_dict:\n",
    "        translation = translation_dict[word]\n",
    "        print(f\"The translation of '{word}' is '{translation}'.\")\n",
    "    else:\n",
    "        print(\"Word not in dictonary.Try another word. \")\n",
    "\n",
    "print(\"Thank you for using translator!\")\n"
   ]
  },
  {
   "cell_type": "markdown",
   "id": "8f201830",
   "metadata": {},
   "source": [
    "#### Task 2: Temperature converter- Create a dictionary named temp_dict containing the highest temperature in Fahrenheit for each day of September 2023 in Louisville, Kentucky. The keys will be the day of the month, and the values will be the temperature in Fahrenheit. Access each temperature value in Fahrenheit from the dictionary, convert it to Celsius using the formula (temperature - 32) * 5/9, and update the original dictionary with the Celsius value. Take help from the weather app to create a correct dictionary."
   ]
  },
  {
   "cell_type": "code",
   "execution_count": 2,
   "id": "2b56adbe",
   "metadata": {},
   "outputs": [
    {
     "name": "stdout",
     "output_type": "stream",
     "text": [
      "September 1: 30.11°C\n",
      "September 2: 30.00°C\n",
      "September 3: 29.83°C\n",
      "September 4: 29.72°C\n",
      "September 5: 29.61°C\n",
      "September 6: 29.50°C\n",
      "September 7: 29.39°C\n",
      "September 8: 29.22°C\n",
      "September 9: 29.06°C\n",
      "September 10: 28.89°C\n",
      "September 11: 28.67°C\n",
      "September 12: 28.44°C\n",
      "September 13: 28.22°C\n",
      "September 14: 28.06°C\n",
      "September 15: 27.78°C\n",
      "September 16: 27.61°C\n",
      "September 17: 27.44°C\n",
      "September 18: 27.22°C\n",
      "September 19: 27.06°C\n",
      "September 20: 26.89°C\n",
      "September 21: 26.72°C\n",
      "September 22: 26.50°C\n",
      "September 23: 26.33°C\n",
      "September 24: 26.17°C\n",
      "September 25: 26.00°C\n",
      "September 26: 25.78°C\n",
      "September 27: 25.56°C\n",
      "September 28: 25.33°C\n",
      "September 29: 25.11°C\n",
      "September 30: 24.89°C\n"
     ]
    }
   ],
   "source": [
    "temp_dict = {\n",
    "    1: 86.2,  \n",
    "    2: 86.0,  \n",
    "    3: 85.7,\n",
    "    4: 85.5,\n",
    "    5: 85.3,\n",
    "    6: 85.1,\n",
    "    7: 84.9,\n",
    "    8: 84.6,\n",
    "    9: 84.3,\n",
    "    10: 84.0,\n",
    "    11: 83.6,\n",
    "    12: 83.2,\n",
    "    13: 82.8,\n",
    "    14: 82.5,\n",
    "    15: 82.0,\n",
    "    16: 81.7,\n",
    "    17: 81.4,\n",
    "    18: 81.0,\n",
    "    19: 80.7,\n",
    "    20: 80.4,\n",
    "    21: 80.1,\n",
    "    22: 79.7,\n",
    "    23: 79.4,\n",
    "    24: 79.1,\n",
    "    25: 78.8,\n",
    "    26: 78.4,\n",
    "    27: 78.0,\n",
    "    28: 77.6,\n",
    "    29: 77.2,\n",
    "    30: 76.8\n",
    "}\n",
    "\n",
    "for day, temp_fahrenheit in temp_dict.items():\n",
    "    temp_celsius = (temp_fahrenheit - 32) * 5/9\n",
    "    temp_dict[day] = temp_celsius\n",
    "\n",
    "for day, temp_celsius in temp_dict.items():\n",
    "    print(f\"September {day}: {temp_celsius:.2f}°C\")\n"
   ]
  },
  {
   "cell_type": "markdown",
   "id": "dde608c8",
   "metadata": {},
   "source": [
    "#### Task 3: Write a Python script to create a dictionary where the keys are numbers between 1 and 15 (both included) and the values are the squares of the keys."
   ]
  },
  {
   "cell_type": "code",
   "execution_count": 3,
   "id": "7f0fdcc6",
   "metadata": {},
   "outputs": [
    {
     "name": "stdout",
     "output_type": "stream",
     "text": [
      "1: 1\n",
      "2: 4\n",
      "3: 9\n",
      "4: 16\n",
      "5: 25\n",
      "6: 36\n",
      "7: 49\n",
      "8: 64\n",
      "9: 81\n",
      "10: 100\n",
      "11: 121\n",
      "12: 144\n",
      "13: 169\n",
      "14: 196\n",
      "15: 225\n"
     ]
    }
   ],
   "source": [
    "squares_dict = {num: num ** 2 for num in range(1, 16)}\n",
    "for key, value in squares_dict.items():\n",
    "    print(f\"{key}: {value}\")\n"
   ]
  },
  {
   "cell_type": "markdown",
   "id": "9d60139e",
   "metadata": {},
   "source": [
    "### Task4: User Profile Dictionary\n",
    "#### Create a Python program that manages user profiles using a dictionary. Follow these steps:\n",
    "#### Create an empty dictionary named user_profiles to store user information.\n",
    "#### Implement a while loop that allows users to input their information. The loop should repeatedly ask the user to enter their name, age, email, and city. Add this information to the user_profiles dictionary.\n",
    "#### Add a break condition to exit the loop.\n",
    "#### Ask the user to input their information and add it to the dictionary. Allow the user to searchfor a specific user's profile by providing their name. If the user is found, display their profile;otherwise, show a message that the user is not found.\n"
   ]
  },
  {
   "cell_type": "code",
   "execution_count": 5,
   "id": "8065720c",
   "metadata": {},
   "outputs": [
    {
     "name": "stdout",
     "output_type": "stream",
     "text": [
      "Enter user's name (or type 'quit' to exit): quit\n",
      "Enter the name of the user you want to search for: john\n",
      "User 'john' not found in the user profiles.\n"
     ]
    }
   ],
   "source": [
    "user_profiles = {}\n",
    "while True:\n",
    "    name = input(\"Enter user's name (or type 'quit' to exit): \")\n",
    "    if name.lower() == 'quit':\n",
    "        break\n",
    "    age = input(\"Enter user's age: \")\n",
    "    email = input(\"Enter user's email: \")\n",
    "    city = input(\"Enter user's city: \")\n",
    "    user_profiles[name] = {\n",
    "        'age': age,\n",
    "        'email': email,\n",
    "        'city': city\n",
    "    }\n",
    "search_name = input(\"Enter the name of the user you want to search for: \")\n",
    "if search_name in user_profiles:\n",
    "    user_profile = user_profiles[search_name]\n",
    "    print(f\"Profile for {search_name}:\")\n",
    "    print(f\"Age: {user_profile['age']}\")\n",
    "    print(f\"Email: {user_profile['email']}\")\n",
    "    print(f\"City: {user_profile['city']}\")\n",
    "else:\n",
    "    print(f\"User '{search_name}' not found in the user profiles.\")"
   ]
  },
  {
   "cell_type": "code",
   "execution_count": null,
   "id": "69618d86",
   "metadata": {},
   "outputs": [],
   "source": []
  }
 ],
 "metadata": {
  "kernelspec": {
   "display_name": "Python 3 (ipykernel)",
   "language": "python",
   "name": "python3"
  },
  "language_info": {
   "codemirror_mode": {
    "name": "ipython",
    "version": 3
   },
   "file_extension": ".py",
   "mimetype": "text/x-python",
   "name": "python",
   "nbconvert_exporter": "python",
   "pygments_lexer": "ipython3",
   "version": "3.11.4"
  }
 },
 "nbformat": 4,
 "nbformat_minor": 5
}
